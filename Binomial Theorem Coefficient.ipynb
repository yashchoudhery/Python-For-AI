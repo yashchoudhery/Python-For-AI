{
 "cells": [
  {
   "cell_type": "markdown",
   "metadata": {},
   "source": [
    "### Here Iam writing a function that calculate Binomial coefficient (a + b)^n"
   ]
  },
  {
   "cell_type": "code",
   "execution_count": 3,
   "metadata": {},
   "outputs": [],
   "source": [
    "def factorial(n):\n",
    "    \"\"\"\n",
    "    n is the no for which I need to calculated the factorial.\n",
    "    \"\"\"\n",
    "    x=1\n",
    "    for i in range(1,n+1):\n",
    "        x = x * i\n",
    "\n",
    "    return x\n",
    "         "
   ]
  },
  {
   "cell_type": "code",
   "execution_count": 5,
   "metadata": {},
   "outputs": [],
   "source": [
    "def BinomialCoef(a,n):\n",
    "    \"\"\"\n",
    "    b:index (0 yo n)\n",
    "    and n is here the power. \n",
    "    nCr   =  n!/(r!*(n-r)!)\n",
    "\n",
    "    \"\"\"\n",
    "\n",
    "    x = factorial(a)\n",
    "    y = factorial(n)\n",
    "    z = factorial(n-a)\n",
    "\n",
    "    result = y/(x*z)\n",
    "\n",
    "    return result\n",
    "\n",
    "\n"
   ]
  },
  {
   "cell_type": "code",
   "execution_count": 9,
   "metadata": {},
   "outputs": [],
   "source": [
    "import math\n",
    "def BinomialTheoremforpositive( a , b , n):   \n",
    "    \"\"\"\n",
    "    ( a + b )^n\n",
    "    \"\"\"\n",
    "    k=0\n",
    "    result = 0\n",
    "    while(k <= n):\n",
    "        bc = BinomialCoef(k,n)\n",
    "        powera = pow(a,n-k)\n",
    "        powerb = pow(b,k)\n",
    "        result = result + (bc * powera * powerb)\n",
    "        k = k+1\n",
    "\n",
    "    return result        \n",
    "\n",
    "\n",
    "\n"
   ]
  },
  {
   "cell_type": "code",
   "execution_count": 21,
   "metadata": {},
   "outputs": [],
   "source": [
    "import math\n",
    "def BinomialTheoremfornegative( a , b , n):   \n",
    "    \"\"\"\n",
    "    ( a - b )^n\n",
    "    \"\"\"\n",
    "    k=0     \n",
    "    result = 0\n",
    "    while(k <= n):\n",
    "        bc = BinomialCoef(k,n)\n",
    "        powera = pow(a,n-k)\n",
    "        if k%2==0:\n",
    "            powerb = pow(b,k)\n",
    "        else:\n",
    "            powerb = (-1) * pow(b,k)    \n",
    "                    \n",
    "        result = result + (bc * powera * (powerb))\n",
    "        k = k+1\n",
    "\n",
    "    return result        \n",
    "\n",
    "\n"
   ]
  },
  {
   "cell_type": "code",
   "execution_count": 28,
   "metadata": {},
   "outputs": [
    {
     "data": {
      "text/plain": [
       "125.0"
      ]
     },
     "execution_count": 28,
     "metadata": {},
     "output_type": "execute_result"
    }
   ],
   "source": [
    "BinomialTheoremforpositive (2,3,3)"
   ]
  },
  {
   "cell_type": "code",
   "execution_count": 29,
   "metadata": {},
   "outputs": [
    {
     "data": {
      "text/plain": [
       "-1.0"
      ]
     },
     "execution_count": 29,
     "metadata": {},
     "output_type": "execute_result"
    }
   ],
   "source": [
    "BinomialTheoremfornegative (2,3,3)"
   ]
  },
  {
   "cell_type": "code",
   "execution_count": null,
   "metadata": {},
   "outputs": [],
   "source": []
  }
 ],
 "metadata": {
  "kernelspec": {
   "display_name": "Python 3",
   "language": "python",
   "name": "python3"
  },
  "language_info": {
   "codemirror_mode": {
    "name": "ipython",
    "version": 3
   },
   "file_extension": ".py",
   "mimetype": "text/x-python",
   "name": "python",
   "nbconvert_exporter": "python",
   "pygments_lexer": "ipython3",
   "version": "3.10.0"
  }
 },
 "nbformat": 4,
 "nbformat_minor": 2
}
