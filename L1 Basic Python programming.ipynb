{
 "cells": [
  {
   "cell_type": "code",
   "execution_count": 9,
   "metadata": {},
   "outputs": [
    {
     "name": "stdout",
     "output_type": "stream",
     "text": [
      "23\n"
     ]
    },
    {
     "data": {
      "text/plain": [
       "52"
      ]
     },
     "execution_count": 9,
     "metadata": {},
     "output_type": "execute_result"
    }
   ],
   "source": [
    "# this is a jupyter notebook file here i can run each code in a specific cell itself \n",
    "\n",
    "print(1+22)\n",
    "\n",
    "1+51\n"
   ]
  },
  {
   "cell_type": "markdown",
   "metadata": {},
   "source": [
    "### From here we start the basic of Python"
   ]
  },
  {
   "cell_type": "code",
   "execution_count": 11,
   "metadata": {},
   "outputs": [
    {
     "name": "stdout",
     "output_type": "stream",
     "text": [
      " Hello World \n"
     ]
    }
   ],
   "source": [
    "print(\" Hello World \")"
   ]
  },
  {
   "cell_type": "code",
   "execution_count": null,
   "metadata": {},
   "outputs": [
    {
     "data": {
      "text/plain": [
       "'\\nMulti \\nline \\ncommands\\n'"
      ]
     },
     "execution_count": 6,
     "metadata": {},
     "output_type": "execute_result"
    }
   ],
   "source": [
    "## Basic syntax rules in python\n",
    "##Python is Case Sencitivity <----single line comments\n",
    "\n",
    "\n",
    "\n",
    "\n",
    "'''\n",
    "Multi \n",
    "line \n",
    "commands\n",
    "'''\n",
    "# this means that multi line comment does not work in JUpyter NoteBook but single line comment work in JN."
   ]
  },
  {
   "cell_type": "code",
   "execution_count": 9,
   "metadata": {},
   "outputs": [
    {
     "name": "stdout",
     "output_type": "stream",
     "text": [
      "yash\n",
      "Yash\n"
     ]
    }
   ],
   "source": [
    "#variable\n",
    "name=\"yash\"\n",
    "Name='Yash' \n",
    "print(name)\n",
    "print(Name)"
   ]
  },
  {
   "cell_type": "code",
   "execution_count": 11,
   "metadata": {},
   "outputs": [
    {
     "name": "stdout",
     "output_type": "stream",
     "text": [
      "adult, can marry, have childs\n",
      "27\n"
     ]
    }
   ],
   "source": [
    "#Indentation\n",
    "##Python uses indentation to determine the grouping of statements. this means that all that all the statements within a block must be indented at same level.\n",
    "\n",
    "age =  27\n",
    "\n",
    "if age >24:\n",
    "    print(\"adult, can marry, have childs\")\\\n",
    "    \n",
    "print (age)    "
   ]
  },
  {
   "cell_type": "code",
   "execution_count": null,
   "metadata": {},
   "outputs": [
    {
     "name": "stdout",
     "output_type": "stream",
     "text": [
      "8\n",
      "18\n"
     ]
    }
   ],
   "source": [
    "# line continuation\n",
    "\n",
    "sum=1+2+2+3\n",
    "+4+6\n",
    "\n",
    "print (sum) #here line continuation is not working \n",
    "\n",
    "#but the correct syntax is\n",
    "\n",
    "sum= 1+2+3+2\\\n",
    "+6+4\n",
    "\n",
    "print(sum)# now this working \n",
    "#use {\\} and continue to next line\n"
   ]
  },
  {
   "cell_type": "code",
   "execution_count": 17,
   "metadata": {},
   "outputs": [
    {
     "name": "stdout",
     "output_type": "stream",
     "text": [
      "84\n"
     ]
    }
   ],
   "source": [
    "# multiple statement on a single line\n",
    "\n",
    "a=23;b=61;c=a+b\n",
    "print(c)"
   ]
  },
  {
   "cell_type": "code",
   "execution_count": null,
   "metadata": {},
   "outputs": [
    {
     "data": {
      "text/plain": [
       "int"
      ]
     },
     "execution_count": 21,
     "metadata": {},
     "output_type": "execute_result"
    }
   ],
   "source": [
    "# Type Inference --> it check the type in Runtime,means same var name can change the type of dats so it execute and in sun time will tell the actual data type\n",
    "type(a)\n"
   ]
  },
  {
   "cell_type": "code",
   "execution_count": 20,
   "metadata": {},
   "outputs": [
    {
     "data": {
      "text/plain": [
       "str"
      ]
     },
     "execution_count": 20,
     "metadata": {},
     "output_type": "execute_result"
    }
   ],
   "source": [
    "type(name)"
   ]
  }
 ],
 "metadata": {
  "kernelspec": {
   "display_name": "Python 3",
   "language": "python",
   "name": "python3"
  },
  "language_info": {
   "codemirror_mode": {
    "name": "ipython",
    "version": 3
   },
   "file_extension": ".py",
   "mimetype": "text/x-python",
   "name": "python",
   "nbconvert_exporter": "python",
   "pygments_lexer": "ipython3",
   "version": "3.10.0"
  }
 },
 "nbformat": 4,
 "nbformat_minor": 2
}
