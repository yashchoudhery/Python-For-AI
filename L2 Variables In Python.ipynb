{
 "cells": [
  {
   "cell_type": "code",
   "execution_count": 1,
   "metadata": {},
   "outputs": [],
   "source": [
    "# Variables are fundamental elements in programming used to store data that can be refrenced adn manipulated in a program."
   ]
  },
  {
   "cell_type": "code",
   "execution_count": 4,
   "metadata": {},
   "outputs": [
    {
     "name": "stdout",
     "output_type": "stream",
     "text": [
      "age :  26\n",
      "height :  5.11\n",
      "name :  Yash\n"
     ]
    }
   ],
   "source": [
    "a=100\n",
    "age=26\n",
    "height=5.11\n",
    "name=\"Yash\"\n",
    "\n",
    "\n",
    "#printing the variables\n",
    "\n",
    "print(\"age : \" ,age)\n",
    "print(\"height : \" ,height)\n",
    "print(\"name : \" ,name)\n"
   ]
  },
  {
   "cell_type": "code",
   "execution_count": 6,
   "metadata": {},
   "outputs": [
    {
     "name": "stdout",
     "output_type": "stream",
     "text": [
      "Yash\n"
     ]
    }
   ],
   "source": [
    "# Naming Convention\n",
    "# var names should be descriptive\n",
    "#they must start with a letter or an '_' and contain letter,number and underscore\n",
    "# var names are case sensitive\n",
    "\n",
    "my_name=\"Yash\"\n",
    "print(my_name)"
   ]
  },
  {
   "cell_type": "code",
   "execution_count": 7,
   "metadata": {},
   "outputs": [
    {
     "name": "stdout",
     "output_type": "stream",
     "text": [
      "<class 'int'>\n",
      "<class 'float'>\n",
      "<class 'bool'>\n"
     ]
    }
   ],
   "source": [
    "#Understanding  Variable type\n",
    "##Pyhton is dynamically of a variable is determined at runtime\n",
    "age=26\n",
    "height=6.11\n",
    "is_true=True\n",
    "\n",
    "print(type(age))\n",
    "print(type(height))\n",
    "print(type(is_true))"
   ]
  },
  {
   "cell_type": "code",
   "execution_count": 8,
   "metadata": {},
   "outputs": [
    {
     "name": "stdout",
     "output_type": "stream",
     "text": [
      "199\n",
      "<class 'int'>\n",
      "199\n",
      "<class 'str'>\n"
     ]
    }
   ],
   "source": [
    "# type cheaking and conversion\n",
    "\n",
    "integerval=199\n",
    "integervalstr=str(integerval)\n",
    "print(integerval)\n",
    "print(type(integerval))\n",
    "print(integervalstr)\n",
    "print(type(integervalstr))"
   ]
  },
  {
   "cell_type": "code",
   "execution_count": 10,
   "metadata": {},
   "outputs": [
    {
     "name": "stdout",
     "output_type": "stream",
     "text": [
      "<class 'float'>\n",
      "<class 'int'>\n",
      "10.1\n",
      "10\n"
     ]
    }
   ],
   "source": [
    "# a complete string cant be converted into a int or float but if a string is a number then it can convert into string fron int and visa-versa\n",
    "# in case of ffloat, float can be converted into int and visa-versa also true\n",
    "\n",
    "\n",
    "ff=10.1\n",
    "print(type(ff))\n",
    "print(type(int(ff)))\n",
    "print((ff))\n",
    "print((int(ff)))"
   ]
  },
  {
   "cell_type": "code",
   "execution_count": 11,
   "metadata": {},
   "outputs": [
    {
     "name": "stdout",
     "output_type": "stream",
     "text": [
      "hello <class 'str'>\n",
      "10 <class 'int'>\n"
     ]
    }
   ],
   "source": [
    "#Dynamic Typing\n",
    "\n",
    "var=\"hello\"\n",
    "print(var,type(var))\n",
    "\n",
    "var=10\n",
    "print(var,type(var))"
   ]
  },
  {
   "cell_type": "code",
   "execution_count": 15,
   "metadata": {},
   "outputs": [
    {
     "name": "stdout",
     "output_type": "stream",
     "text": [
      "your age is 21\n",
      "<class 'str'>\n",
      "your age is 21\n",
      "<class 'int'>\n"
     ]
    }
   ],
   "source": [
    "#How to take input\n",
    "\n",
    "age=input(\"what is your age\")\n",
    "print(\"your age is \"+ age)\n",
    "print(type(age))\n",
    "\n",
    "\n",
    "# the above input taking a string as input , for make input as int we need to do string convertion----> type casting\n",
    "\n",
    "age=int(input(\"what is your age\"))\n",
    "print(\"your age is \"+ str(age))\n",
    "print(type(age))"
   ]
  },
  {
   "cell_type": "markdown",
   "metadata": {},
   "source": [
    "# Data Types in Python\n"
   ]
  },
  {
   "cell_type": "code",
   "execution_count": 16,
   "metadata": {},
   "outputs": [],
   "source": [
    "# Data types ensures that data is stored in an efficient way.\n",
    "#proper use of data types can prevent errors and bugs in the programs.\n",
    "#they help in performing correct operations on data."
   ]
  },
  {
   "cell_type": "code",
   "execution_count": 17,
   "metadata": {},
   "outputs": [
    {
     "data": {
      "text/plain": [
       "int"
      ]
     },
     "execution_count": 17,
     "metadata": {},
     "output_type": "execute_result"
    }
   ],
   "source": [
    "## Integer example\n",
    "age =25\n",
    "type(age)"
   ]
  },
  {
   "cell_type": "code",
   "execution_count": 20,
   "metadata": {},
   "outputs": [
    {
     "name": "stdout",
     "output_type": "stream",
     "text": [
      "<class 'float'>\n",
      "5.897\n"
     ]
    }
   ],
   "source": [
    "## floating point number\n",
    "length=5.897\n",
    "print(type(length))\n",
    "\n",
    "print(length)\n"
   ]
  },
  {
   "cell_type": "code",
   "execution_count": 21,
   "metadata": {},
   "outputs": [
    {
     "name": "stdout",
     "output_type": "stream",
     "text": [
      "<class 'str'>\n",
      "yash\n"
     ]
    }
   ],
   "source": [
    "##String datatype\n",
    "\n",
    "name=\"yash\"\n",
    "\n",
    "print(type(name))\n",
    "print(name)"
   ]
  },
  {
   "cell_type": "code",
   "execution_count": 24,
   "metadata": {},
   "outputs": [
    {
     "name": "stdout",
     "output_type": "stream",
     "text": [
      "<class 'bool'>\n",
      "<class 'bool'>\n",
      "True\n"
     ]
    }
   ],
   "source": [
    "##Boolean \n",
    "print(type(True))\n",
    "is_true=True\n",
    "print(type(is_true))\n",
    "print(is_true)"
   ]
  },
  {
   "cell_type": "code",
   "execution_count": 26,
   "metadata": {},
   "outputs": [
    {
     "data": {
      "text/plain": [
       "bool"
      ]
     },
     "execution_count": 26,
     "metadata": {},
     "output_type": "execute_result"
    }
   ],
   "source": [
    "type(True==False)"
   ]
  }
 ],
 "metadata": {
  "kernelspec": {
   "display_name": "Python 3",
   "language": "python",
   "name": "python3"
  },
  "language_info": {
   "codemirror_mode": {
    "name": "ipython",
    "version": 3
   },
   "file_extension": ".py",
   "mimetype": "text/x-python",
   "name": "python",
   "nbconvert_exporter": "python",
   "pygments_lexer": "ipython3",
   "version": "3.10.0"
  }
 },
 "nbformat": 4,
 "nbformat_minor": 2
}
