{
 "cells": [
  {
   "cell_type": "markdown",
   "metadata": {},
   "source": [
    "# Conditional Statements"
   ]
  },
  {
   "cell_type": "markdown",
   "metadata": {},
   "source": [
    "## if Statement"
   ]
  },
  {
   "cell_type": "code",
   "execution_count": 2,
   "metadata": {},
   "outputs": [
    {
     "name": "stdout",
     "output_type": "stream",
     "text": [
      "Different name checked\n"
     ]
    }
   ],
   "source": [
    "name = \"yash\"\n",
    "\n",
    "if name == \"bash\":\n",
    "    print (name)\n",
    "print(\"Different name checked\")\n"
   ]
  },
  {
   "cell_type": "code",
   "execution_count": 4,
   "metadata": {},
   "outputs": [
    {
     "name": "stdout",
     "output_type": "stream",
     "text": [
      "17 > 14\n"
     ]
    }
   ],
   "source": [
    "number = 17\n",
    "\n",
    "if number > 14:\n",
    "    print( str(number) + \" > 14\")"
   ]
  },
  {
   "cell_type": "markdown",
   "metadata": {},
   "source": [
    "## if else"
   ]
  },
  {
   "cell_type": "code",
   "execution_count": 5,
   "metadata": {},
   "outputs": [
    {
     "name": "stdout",
     "output_type": "stream",
     "text": [
      "Smaller\n"
     ]
    }
   ],
   "source": [
    "if number > 18:\n",
    "    print(\"greater\")\n",
    "\n",
    "else:\n",
    "    print (\"Smaller\")    "
   ]
  },
  {
   "cell_type": "markdown",
   "metadata": {},
   "source": [
    "##  elif ---> else if"
   ]
  },
  {
   "cell_type": "code",
   "execution_count": 6,
   "metadata": {},
   "outputs": [
    {
     "name": "stdout",
     "output_type": "stream",
     "text": [
      "Equal\n"
     ]
    }
   ],
   "source": [
    "number = 18\n",
    "\n",
    "if number > 18:\n",
    "    print(\"Greater\")\n",
    "\n",
    "elif number == 18:\n",
    "    print(\"Equal\")\n",
    "\n",
    "else:\n",
    "    print(\"Smaller\")         "
   ]
  },
  {
   "cell_type": "code",
   "execution_count": null,
   "metadata": {},
   "outputs": [
    {
     "name": "stdout",
     "output_type": "stream",
     "text": [
      " Adult , married\n"
     ]
    }
   ],
   "source": [
    "## Nested conditional Satatements\n",
    "age = int(input(\"Enter your age : \"))\n",
    "\n",
    "if age <= 17:\n",
    "    if studying == True:\n",
    "        print(\" child studying\")\n",
    "\n",
    "    else:\n",
    "        print(\" child Not Studying\")\n",
    "\n",
    "elif age <= 21:\n",
    "    print(\" in college \") \n",
    "\n",
    "else:\n",
    "    if  bool (input(\"married ?\")) :\n",
    "        print(\" Adult , married\") \n",
    "\n",
    "    else :\n",
    "        print( \"Adult But Not Married\")                 \n",
    "?       "
   ]
  },
  {
   "cell_type": "code",
   "execution_count": 21,
   "metadata": {},
   "outputs": [
    {
     "name": "stdout",
     "output_type": "stream",
     "text": [
      "2022 No this year is not a Leep year\n"
     ]
    }
   ],
   "source": [
    "# Question WAP in which take input from the user as the year and check wheather it is a leep year or not??\n",
    "\n",
    "\n",
    "year = int (input ( \" Please Enter choice of your year adn we will check and let you know wheather it is a leep year or not! \"))\n",
    "\n",
    "if year % 4 == 0:\n",
    "    if year % 100 == 0:\n",
    "        if year % 400 == 0:\n",
    "             print (str(year) + \" yes, this year is a Leep year\")\n",
    "\n",
    "    else:\n",
    "        print(year,\" Yes,this year is a leep year\")\n",
    "\n",
    "else:\n",
    "    print( str(year)+\" No this year is not a Leep year\")    "
   ]
  }
 ],
 "metadata": {
  "kernelspec": {
   "display_name": "Python 3",
   "language": "python",
   "name": "python3"
  },
  "language_info": {
   "codemirror_mode": {
    "name": "ipython",
    "version": 3
   },
   "file_extension": ".py",
   "mimetype": "text/x-python",
   "name": "python",
   "nbconvert_exporter": "python",
   "pygments_lexer": "ipython3",
   "version": "3.10.0"
  }
 },
 "nbformat": 4,
 "nbformat_minor": 2
}
