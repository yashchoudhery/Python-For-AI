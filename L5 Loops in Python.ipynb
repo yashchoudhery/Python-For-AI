{
 "cells": [
  {
   "cell_type": "markdown",
   "metadata": {},
   "source": [
    "# Loops"
   ]
  },
  {
   "cell_type": "markdown",
   "metadata": {},
   "source": [
    "## Type Of Loop"
   ]
  },
  {
   "cell_type": "markdown",
   "metadata": {},
   "source": [
    "### For Loop "
   ]
  },
  {
   "cell_type": "code",
   "execution_count": 1,
   "metadata": {},
   "outputs": [
    {
     "data": {
      "text/plain": [
       "range(0, 5)"
      ]
     },
     "execution_count": 1,
     "metadata": {},
     "output_type": "execute_result"
    }
   ],
   "source": [
    "# A for loop is a loop which is used to iterate over sequence of numbers\n",
    "\n",
    "range(0,5)\n",
    "\n"
   ]
  },
  {
   "cell_type": "code",
   "execution_count": null,
   "metadata": {},
   "outputs": [
    {
     "name": "stdout",
     "output_type": "stream",
     "text": [
      "0\n",
      "1\n",
      "2\n",
      "3\n",
      "4\n"
     ]
    }
   ],
   "source": [
    "\n",
    "for i in range(0,5):   #range(start, end)    ---- >last no is not included here\n",
    "    print(i)"
   ]
  },
  {
   "cell_type": "code",
   "execution_count": null,
   "metadata": {},
   "outputs": [
    {
     "name": "stdout",
     "output_type": "stream",
     "text": [
      "1\n",
      "3\n",
      "5\n",
      "7\n",
      "9\n"
     ]
    }
   ],
   "source": [
    "#range (start, end, step)    ----> the third parameter step means we need to pick number from start then each time when we pick next number we need to skip step times number to pick next number \n",
    "# ex-> range(1,6,1) --->\n",
    "for i in range(1,10,2):\n",
    "    print(i)"
   ]
  },
  {
   "cell_type": "code",
   "execution_count": 7,
   "metadata": {},
   "outputs": [
    {
     "name": "stdout",
     "output_type": "stream",
     "text": [
      "1\n",
      "2\n",
      "3\n",
      "4\n",
      "5\n"
     ]
    }
   ],
   "source": [
    "for i in range(1,6,1):\n",
    "    print(i)"
   ]
  },
  {
   "cell_type": "code",
   "execution_count": 12,
   "metadata": {},
   "outputs": [
    {
     "name": "stdout",
     "output_type": "stream",
     "text": [
      "10\n",
      "9\n",
      "8\n",
      "7\n",
      "6\n",
      "5\n",
      "4\n",
      "3\n",
      "2\n"
     ]
    }
   ],
   "source": [
    "for i in range(10,1,-1):\n",
    "    print(i)"
   ]
  },
  {
   "cell_type": "code",
   "execution_count": 13,
   "metadata": {},
   "outputs": [
    {
     "name": "stdout",
     "output_type": "stream",
     "text": [
      "Y\n",
      "a\n",
      "s\n",
      "h\n",
      " \n",
      "c\n",
      "h\n",
      "o\n",
      "u\n",
      "d\n",
      "h\n",
      "e\n",
      "r\n",
      "y\n"
     ]
    }
   ],
   "source": [
    "# Loops in string \n",
    "\n",
    "\n",
    "str='Yash choudhery'\n",
    "\n",
    "\n",
    "for i in str:\n",
    "    print(i)"
   ]
  },
  {
   "cell_type": "code",
   "execution_count": null,
   "metadata": {},
   "outputs": [
    {
     "name": "stdout",
     "output_type": "stream",
     "text": [
      "Yash choudhery"
     ]
    }
   ],
   "source": [
    "# if you want to print all this in one line then we can do this by -> end=\"\" in print function\n",
    "\n",
    "for i in str:\n",
    "    print(i, end='')"
   ]
  },
  {
   "cell_type": "markdown",
   "metadata": {},
   "source": [
    "### While Loop"
   ]
  },
  {
   "cell_type": "code",
   "execution_count": 16,
   "metadata": {},
   "outputs": [
    {
     "name": "stdout",
     "output_type": "stream",
     "text": [
      "0\n",
      "1\n",
      "2\n",
      "3\n",
      "4\n"
     ]
    }
   ],
   "source": [
    "# The while loop continues to execute as long as the condition is True.\n",
    "letsmetrue= True\n",
    "\n",
    "i=0\n",
    "while(letsmetrue):\n",
    "    print(i)\n",
    "    i+=1           # this is same as i = i + 1\n",
    "    if i == 5:\n",
    "        letsmetrue=False\n",
    "\n",
    "\n"
   ]
  },
  {
   "cell_type": "code",
   "execution_count": 19,
   "metadata": {},
   "outputs": [
    {
     "name": "stdout",
     "output_type": "stream",
     "text": [
      "0\n",
      "1\n",
      "2\n",
      "3\n",
      "4\n"
     ]
    }
   ],
   "source": [
    "#Or you can also do this like\n",
    "\n",
    "i = 0 \n",
    " \n",
    "while  i < 5:\n",
    "    print(i)\n",
    "    i = i + 1\n"
   ]
  },
  {
   "cell_type": "code",
   "execution_count": 23,
   "metadata": {},
   "outputs": [
    {
     "name": "stdout",
     "output_type": "stream",
     "text": [
      "0\n",
      "2\n",
      "4\n",
      "6\n",
      "8\n",
      "10\n",
      "12\n",
      "14\n",
      "16\n",
      "18\n"
     ]
    }
   ],
   "source": [
    "# Question -> Print  first 10 even numbers using while loop\n",
    "\n",
    "count =0\n",
    "i = 0\n",
    "while  count < 10:\n",
    "    if  i % 2 == 0:\n",
    "        print (i)\n",
    "        count += 1    \n",
    "    i += 1\n",
    "    \n",
    "\n",
    "\n"
   ]
  },
  {
   "cell_type": "markdown",
   "metadata": {},
   "source": [
    "### Loop Control Statements \n",
    "### 1)Break\n",
    "### 2)Continue\n",
    "### 3)Pass"
   ]
  },
  {
   "cell_type": "code",
   "execution_count": 24,
   "metadata": {},
   "outputs": [
    {
     "name": "stdout",
     "output_type": "stream",
     "text": [
      "0\n",
      "1\n",
      "2\n",
      "3\n",
      "4\n",
      "5\n",
      "6\n"
     ]
    }
   ],
   "source": [
    "#Break  -> whenevern this statement encounters it exits the loop. it doesn't wait to finish it up or we can se terminate the loop prematurely\n",
    "\n",
    "i=0\n",
    "\n",
    "while i != 10:\n",
    "    if i==7:\n",
    "        break\n",
    "    print(i)\n",
    "    i+=1    \n"
   ]
  },
  {
   "cell_type": "code",
   "execution_count": 26,
   "metadata": {},
   "outputs": [
    {
     "name": "stdout",
     "output_type": "stream",
     "text": [
      "0\n",
      "3\n",
      "6\n",
      "9\n",
      "12\n",
      "18\n",
      "21\n",
      "24\n",
      "27\n",
      "33\n",
      "36\n",
      "39\n",
      "42\n",
      "48\n"
     ]
    }
   ],
   "source": [
    "# continue --> it just skip the current statement whenever it encounters and continue from the next.\n",
    "\n",
    "for i in range(0,50,3):\n",
    "\n",
    "    if i==15 or i==30 or i==45 :\n",
    "        continue\n",
    "    print(i)"
   ]
  },
  {
   "cell_type": "code",
   "execution_count": 28,
   "metadata": {},
   "outputs": [
    {
     "name": "stdout",
     "output_type": "stream",
     "text": [
      "0\n",
      "0\n",
      "1\n",
      "2\n",
      "2\n",
      "3\n",
      "4\n",
      "4\n"
     ]
    }
   ],
   "source": [
    "# pass ->. it do nothing  , it is  a null operation.\n",
    "\n",
    "for i in range(5):\n",
    "    if i%2 ==0:\n",
    "        pass\n",
    "        print(i)   # see this is printed  and it does nothing as per condition. the use case of this is if you are makig a function and you dont know what to define in that funtion simply use pass there instead of left it empty this will not give error.as_integer_ratio\n",
    "    print(i)"
   ]
  },
  {
   "cell_type": "code",
   "execution_count": 40,
   "metadata": {},
   "outputs": [
    {
     "name": "stdout",
     "output_type": "stream",
     "text": [
      "j----> 0 j----> 1 j----> 2   i---->  0\n",
      "j----> 0 j----> 1 j----> 2   i---->  1\n",
      "j----> 0 j----> 1 j----> 2   i---->  2\n",
      "j----> 0 j----> 1 j----> 2   i---->  3\n",
      "j----> 0 j----> 1 j----> 2   i---->  4\n",
      "j----> 0 j----> 1 j----> 2   i---->  5\n",
      "j----> 0 j----> 1 j----> 2   i---->  6\n"
     ]
    }
   ],
   "source": [
    "##Nested Loops ---> Loop inside a Loop\n",
    "\n",
    "\n",
    "for i in range(7):\n",
    "    for j in range (3):\n",
    "        print(\"j----> \",end='')\n",
    "        print( j,end=' ')\n",
    "    \n",
    "    print(\"  i----> \",i)    "
   ]
  },
  {
   "cell_type": "code",
   "execution_count": null,
   "metadata": {},
   "outputs": [],
   "source": [
    "#### If you want to do more hands-on you can write a program which print 1-100 prime numbers and also you can write a program that ask for a number and then print the factorial of that number.."
   ]
  }
 ],
 "metadata": {
  "kernelspec": {
   "display_name": "Python 3",
   "language": "python",
   "name": "python3"
  },
  "language_info": {
   "codemirror_mode": {
    "name": "ipython",
    "version": 3
   },
   "file_extension": ".py",
   "mimetype": "text/x-python",
   "name": "python",
   "nbconvert_exporter": "python",
   "pygments_lexer": "ipython3",
   "version": "3.10.0"
  }
 },
 "nbformat": 4,
 "nbformat_minor": 2
}
